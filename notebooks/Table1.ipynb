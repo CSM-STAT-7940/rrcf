{
 "cells": [
  {
   "cell_type": "code",
   "execution_count": 3,
   "metadata": {},
   "outputs": [],
   "source": [
    "import numpy as np\n",
    "import matplotlib.pyplot as plt\n",
    "import seaborn as sns\n",
    "sns.set_style(\"whitegrid\")\n",
    "import sklearn.metrics as met\n",
    "data = np.load(\"taxi_all.npz\")\n",
    "\n",
    "def metrics(lables, pred, prnt = False):\n",
    "    tn, fp, fn, tp = met.confusion_matrix(labels, pred).ravel()\n",
    "    ppv = tp /(tp + fp)\n",
    "    precall = tp /(tp + fn)\n",
    "    \n",
    "    npv = tn /(tn + fn)\n",
    "    nrecall = tn /(tn + fp)\n",
    "    \n",
    "    acc = (tp + tn) / (tp+tn+fp+fn)\n",
    "    \n",
    "    if prnt:\n",
    "        print(\"Positive Precision:\", ppv)\n",
    "        print(\"Positive Recall   :\", precall)\n",
    "        print(\"Negative Precision:\", npv)\n",
    "        print(\"Negative Recall   :\", nrecall)\n",
    "        print(\"Accuracy          :\", acc)\n",
    "    return ppv, precall, npv, nrecall, acc\n",
    "\n",
    "# Anamolies from the paper\n",
    "time_stamps = [np.datetime64(i) for i in data[\"dates\"]]\n",
    "\n",
    "independence_day = (time_stamps.index(np.datetime64('2014-07-04 00:00:00')),\n",
    "                    time_stamps.index(np.datetime64('2014-07-07 00:00:00')))\n",
    "labor_day        = (time_stamps.index(np.datetime64('2014-09-01 00:00:00')),\n",
    "                    time_stamps.index(np.datetime64('2014-09-02 00:00:00')))\n",
    "labor_day_parade = (time_stamps.index(np.datetime64('2014-09-06 00:00:00')),\n",
    "                    time_stamps.index(np.datetime64('2014-09-07 00:00:00')))\n",
    "NYC_marathon     = (time_stamps.index(np.datetime64('2014-11-02 00:00:00')),\n",
    "                    time_stamps.index(np.datetime64('2014-11-03 00:00:00')))\n",
    "thanksgiving     = (time_stamps.index(np.datetime64('2014-11-27 00:00:00')),\n",
    "                    time_stamps.index(np.datetime64('2014-11-28 00:00:00')))\n",
    "christmas        = (time_stamps.index(np.datetime64('2014-12-25 00:00:00')),\n",
    "                    time_stamps.index(np.datetime64('2014-12-26 00:00:00')))\n",
    "new_year         = (time_stamps.index(np.datetime64('2015-01-01 00:00:00')),\n",
    "                    time_stamps.index(np.datetime64('2015-01-02 00:00:00')))\n",
    "blizzard         = (time_stamps.index(np.datetime64('2015-01-26 00:00:00')),\n",
    "                    time_stamps.index(np.datetime64('2015-01-28 00:00:00')))\n",
    "anamolies = [independence_day, labor_day, labor_day_parade, NYC_marathon, thanksgiving, christmas, new_year, blizzard]\n",
    "\n",
    "labels = np.ones(len(data[\"passengers\"]))\n",
    "\n",
    "for i,j in anamolies:\n",
    "    labels[i:j] = 0"
   ]
  },
  {
   "cell_type": "code",
   "execution_count": 17,
   "metadata": {},
   "outputs": [
    {
     "data": {
      "text/plain": [
       "[<matplotlib.lines.Line2D at 0x11efdc978>]"
      ]
     },
     "execution_count": 17,
     "metadata": {},
     "output_type": "execute_result"
    },
    {
     "data": {
      "image/png": "[encoded data removed]",
      "text/plain": [
       "<Figure size 432x288 with 1 Axes>"
      ]
     },
     "metadata": {},
     "output_type": "display_data"
    }
   ],
   "source": [
    "## 1000 sample size \n",
    "labels = np.ones(len(data[\"passengers\"]))\n",
    "for i,j in anamolies[:]:\n",
    "    labels[i:j] = 0\n",
    "ppv = []\n",
    "precall = []\n",
    "npv = []\n",
    "nrecall = []\n",
    "acc = []\n",
    "r = np.linspace(97,98, 100)\n",
    "for i in r:\n",
    "    codisp_score = np.load(\"./FINALALAcodisp_trees_200.npy\").mean(axis=1)\n",
    "    mask = np.percentile(codisp_score, i)\n",
    "    codisp_score[codisp_score <= mask] = 1\n",
    "    codisp_score[codisp_score > mask] = 0\n",
    "    p, pr, n, nr, ac = metrics(labels, codisp_score)\n",
    "    ppv.append(p)\n",
    "    precall.append(pr)\n",
    "    npv.append(n)\n",
    "    nrecall.append(nr)\n",
    "    acc.append(ac)\n",
    "\n",
    "#plt.plot(r, ppv, 'g')\n",
    "plt.plot(r, npv, 'violet')\n",
    "plt.plot(r, nrecall, 'b')\n",
    "#plt.plot(r, precall, \"r\")"
   ]
  },
  {
   "cell_type": "code",
   "execution_count": 18,
   "metadata": {},
   "outputs": [
    {
     "name": "stdout",
     "output_type": "stream",
     "text": [
      "Positive Precision: 0.9660730275594468\n",
      "Positive Recall   : 0.9916258169934641\n",
      "Negative Precision: 0.6951672862453532\n",
      "Negative Recall   : 0.3541666666666667\n",
      "Accuracy          : 0.9590116279069767\n"
     ]
    }
   ],
   "source": [
    "codisp_score = np.load(\"./FINALALAcodisp_trees_200.npy\").mean(axis=1)\n",
    "mask = np.percentile(codisp_score, 97.4)\n",
    "codisp_score[codisp_score <= mask] = 1\n",
    "codisp_score[codisp_score > mask] = 0\n",
    "p, pr, n, nr, ac = metrics(labels, codisp_score, True)"
   ]
  },
  {
   "cell_type": "code",
   "execution_count": 24,
   "metadata": {},
   "outputs": [
    {
     "data": {
      "text/plain": [
       "[<matplotlib.lines.Line2D at 0x11f4475f8>]"
      ]
     },
     "execution_count": 24,
     "metadata": {},
     "output_type": "execute_result"
    },
    {
     "data": {
      "image/png": "[encoded data removed]",
      "text/plain": [
       "<Figure size 432x288 with 1 Axes>"
      ]
     },
     "metadata": {},
     "output_type": "display_data"
    }
   ],
   "source": [
    "## 1000 sample size \n",
    "labels = np.ones(len(data[\"passengers\"]))\n",
    "for i,j in anamolies[:]:\n",
    "    labels[i:j] = 0\n",
    "ppv = []\n",
    "precall = []\n",
    "npv = []\n",
    "nrecall = []\n",
    "acc = []\n",
    "r = np.linspace(95,97, 100)\n",
    "for i in r:\n",
    "    codisp_score = np.load(\"./codisp_trees_512.npy\").mean(axis=1)\n",
    "    mask = np.percentile(codisp_score, i)\n",
    "    codisp_score[codisp_score <= mask] = 1\n",
    "    codisp_score[codisp_score > mask] = 0\n",
    "    p, pr, n, nr, ac = metrics(labels, codisp_score)\n",
    "    ppv.append(p)\n",
    "    precall.append(pr)\n",
    "    npv.append(n)\n",
    "    nrecall.append(nr)\n",
    "    acc.append(ac)\n",
    "\n",
    "#plt.plot(r, ppv, 'g')\n",
    "plt.plot(r, npv, 'violet')\n",
    "plt.plot(r, nrecall, 'b')\n",
    "#plt.plot(r, precall, \"r\")"
   ]
  },
  {
   "cell_type": "code",
   "execution_count": 30,
   "metadata": {},
   "outputs": [
    {
     "name": "stdout",
     "output_type": "stream",
     "text": [
      "Positive Precision: 0.9642605456558945\n",
      "Positive Recall   : 0.9781454248366013\n",
      "Negative Precision: 0.4470284237726098\n",
      "Negative Recall   : 0.32765151515151514\n",
      "Accuracy          : 0.9448643410852713\n"
     ]
    }
   ],
   "source": [
    "codisp_score = np.load(\"./codisp_trees_512.npy\").mean(axis=1)\n",
    "mask = np.percentile(codisp_score, 96.25)\n",
    "codisp_score[codisp_score <= mask] = 1\n",
    "codisp_score[codisp_score > mask] = 0\n",
    "p, pr, n, nr, ac = metrics(labels, codisp_score, True)"
   ]
  },
  {
   "cell_type": "code",
   "execution_count": 29,
   "metadata": {},
   "outputs": [
    {
     "data": {
      "text/plain": [
       "[<matplotlib.lines.Line2D at 0x11f71b240>]"
      ]
     },
     "execution_count": 29,
     "metadata": {},
     "output_type": "execute_result"
    },
    {
     "data": {
      "image/png": "[encoded data removed]",
      "text/plain": [
       "<Figure size 432x288 with 1 Axes>"
      ]
     },
     "metadata": {},
     "output_type": "display_data"
    }
   ],
   "source": [
    "## 1000 sample size \n",
    "labels = np.ones(len(data[\"passengers\"]))\n",
    "for i,j in anamolies[:]:\n",
    "    labels[i:j] = 0\n",
    "ppv = []\n",
    "precall = []\n",
    "npv = []\n",
    "nrecall = []\n",
    "acc = []\n",
    "r = np.linspace(94.5,96, 100)\n",
    "for i in r:\n",
    "    codisp_score = np.load(\"./codisp_trees_256.npy\").mean(axis=1)\n",
    "    mask = np.percentile(codisp_score, i)\n",
    "    codisp_score[codisp_score <= mask] = 1\n",
    "    codisp_score[codisp_score > mask] = 0\n",
    "    p, pr, n, nr, ac = metrics(labels, codisp_score)\n",
    "    ppv.append(p)\n",
    "    precall.append(pr)\n",
    "    npv.append(n)\n",
    "    nrecall.append(nr)\n",
    "    acc.append(ac)\n",
    "\n",
    "#plt.plot(r, ppv, 'g')\n",
    "plt.plot(r, npv, 'violet')\n",
    "plt.plot(r, nrecall, 'b')\n",
    "#plt.plot(r, precall, \"r\")"
   ]
  },
  {
   "cell_type": "code",
   "execution_count": 31,
   "metadata": {},
   "outputs": [
    {
     "name": "stdout",
     "output_type": "stream",
     "text": [
      "Positive Precision: 0.9577179850293344\n",
      "Positive Recall   : 0.9669117647058824\n",
      "Negative Precision: 0.2534562211981567\n",
      "Negative Recall   : 0.20833333333333334\n",
      "Accuracy          : 0.9281007751937984\n"
     ]
    }
   ],
   "source": [
    "codisp_score = np.load(\"./codisp_trees_256.npy\").mean(axis=1)\n",
    "mask = np.percentile(codisp_score, 95.8)\n",
    "codisp_score[codisp_score <= mask] = 1\n",
    "codisp_score[codisp_score > mask] = 0\n",
    "p, pr, n, nr, ac = metrics(labels, codisp_score, True)"
   ]
  },
  {
   "cell_type": "code",
   "execution_count": 60,
   "metadata": {},
   "outputs": [
    {
     "name": "stdout",
     "output_type": "stream",
     "text": [
      "Positive Precision: 0.9576757532281205\n",
      "Positive Recall   : 0.959051724137931\n",
      "Negative Precision: 0.2237354085603113\n",
      "Negative Recall   : 0.2178030303030303\n",
      "Accuracy          : 0.9209501557632399\n"
     ]
    },
    {
     "data": {
      "text/plain": [
       "(0.9576757532281205,\n",
       " 0.959051724137931,\n",
       " 0.2237354085603113,\n",
       " 0.2178030303030303,\n",
       " 0.9209501557632399)"
      ]
     },
     "execution_count": 60,
     "metadata": {},
     "output_type": "execute_result"
    }
   ],
   "source": [
    "from sklearn.ensemble import IsolationForest\n",
    "import copy\n",
    "D = np.zeros((len(data[\"passengers\"])-48, 48))\n",
    "for i in range(48, len(data[\"passengers\"])):\n",
    "    D[i-48,:] = data[\"passengers\"][i-48:i]\n",
    "## 1000 sample size \n",
    "labels = np.ones(len(data[\"passengers\"]))\n",
    "for i,j in anamolies[:]:\n",
    "    labels[i:j] = 0\n",
    "labels = copy.deepcopy(labels[48:])\n",
    "ppv = []\n",
    "precall = []\n",
    "npv = []\n",
    "nrecall = []\n",
    "acc = []\n",
    "r = np.linspace(0,0.1, 10)\n",
    "IF = IsolationForest(n_estimators = 200,\n",
    "                    max_samples  = 256,\n",
    "                    contamination= 0.05,\n",
    "                    behaviour='new',\n",
    "                    random_state=0)\n",
    "IF.fit(D)\n",
    "if_pred = IF.fit_predict(D)\n",
    "if_pred[if_pred < 0] = 0\n",
    "metrics(labels, if_pred, True)"
   ]
  },
  {
   "cell_type": "code",
   "execution_count": 56,
   "metadata": {},
   "outputs": [
    {
     "data": {
      "text/plain": [
       "array([1, 1, 1, ..., 1, 1, 1])"
      ]
     },
     "execution_count": 56,
     "metadata": {},
     "output_type": "execute_result"
    }
   ],
   "source": [
    "if_pred"
   ]
  },
  {
   "cell_type": "code",
   "execution_count": 61,
   "metadata": {},
   "outputs": [
    {
     "name": "stdout",
     "output_type": "stream",
     "text": [
      "Positive Precision: 0.957983193277311\n",
      "Positive Recall   : 0.9593596059113301\n",
      "Negative Precision: 0.22957198443579765\n",
      "Negative Recall   : 0.22348484848484848\n",
      "Accuracy          : 0.9215342679127726\n"
     ]
    },
    {
     "data": {
      "text/plain": [
       "(0.957983193277311,\n",
       " 0.9593596059113301,\n",
       " 0.22957198443579765,\n",
       " 0.22348484848484848,\n",
       " 0.9215342679127726)"
      ]
     },
     "execution_count": 61,
     "metadata": {},
     "output_type": "execute_result"
    }
   ],
   "source": [
    "from sklearn.ensemble import IsolationForest\n",
    "import copy\n",
    "D = np.zeros((len(data[\"passengers\"])-48, 48))\n",
    "for i in range(48, len(data[\"passengers\"])):\n",
    "    D[i-48,:] = data[\"passengers\"][i-48:i]\n",
    "## 1000 sample size \n",
    "labels = np.ones(len(data[\"passengers\"]))\n",
    "for i,j in anamolies[:]:\n",
    "    labels[i:j] = 0\n",
    "labels = copy.deepcopy(labels[48:])\n",
    "ppv = []\n",
    "precall = []\n",
    "npv = []\n",
    "nrecall = []\n",
    "acc = []\n",
    "r = np.linspace(0,0.1, 10)\n",
    "IF = IsolationForest(n_estimators = 200,\n",
    "                    max_samples  = 512,\n",
    "                    contamination= 0.05,\n",
    "                    behaviour='new',\n",
    "                    random_state=0)\n",
    "IF.fit(D)\n",
    "if_pred = IF.fit_predict(D)\n",
    "if_pred[if_pred < 0] = 0\n",
    "metrics(labels, if_pred, True)"
   ]
  },
  {
   "cell_type": "code",
   "execution_count": 62,
   "metadata": {},
   "outputs": [
    {
     "name": "stdout",
     "output_type": "stream",
     "text": [
      "Positive Precision: 0.9577782332445173\n",
      "Positive Recall   : 0.9591543513957307\n",
      "Negative Precision: 0.22568093385214008\n",
      "Negative Recall   : 0.2196969696969697\n",
      "Accuracy          : 0.9211448598130841\n"
     ]
    },
    {
     "data": {
      "text/plain": [
       "(0.9577782332445173,\n",
       " 0.9591543513957307,\n",
       " 0.22568093385214008,\n",
       " 0.2196969696969697,\n",
       " 0.9211448598130841)"
      ]
     },
     "execution_count": 62,
     "metadata": {},
     "output_type": "execute_result"
    }
   ],
   "source": [
    "from sklearn.ensemble import IsolationForest\n",
    "import copy\n",
    "D = np.zeros((len(data[\"passengers\"])-48, 48))\n",
    "for i in range(48, len(data[\"passengers\"])):\n",
    "    D[i-48,:] = data[\"passengers\"][i-48:i]\n",
    "## 1000 sample size \n",
    "labels = np.ones(len(data[\"passengers\"]))\n",
    "for i,j in anamolies[:]:\n",
    "    labels[i:j] = 0\n",
    "labels = copy.deepcopy(labels[48:])\n",
    "ppv = []\n",
    "precall = []\n",
    "npv = []\n",
    "nrecall = []\n",
    "acc = []\n",
    "r = np.linspace(0,0.1, 10)\n",
    "IF = IsolationForest(n_estimators = 200,\n",
    "                    max_samples  = 1000,\n",
    "                    contamination= 0.05,\n",
    "                    behaviour='new',\n",
    "                    random_state=0)\n",
    "IF.fit(D)\n",
    "if_pred = IF.fit_predict(D)\n",
    "if_pred[if_pred < 0] = 0\n",
    "metrics(labels, if_pred, True)"
   ]
  },
  {
   "cell_type": "code",
   "execution_count": null,
   "metadata": {},
   "outputs": [],
   "source": []
  }
 ],
 "metadata": {
  "kernelspec": {
   "display_name": "Python 3",
   "language": "python",
   "name": "python3"
  },
  "language_info": {
   "codemirror_mode": {
    "name": "ipython",
    "version": 3
   },
   "file_extension": ".py",
   "mimetype": "text/x-python",
   "name": "python",
   "nbconvert_exporter": "python",
   "pygments_lexer": "ipython3",
   "version": "3.7.1"
  }
 },
 "nbformat": 4,
 "nbformat_minor": 2
}
